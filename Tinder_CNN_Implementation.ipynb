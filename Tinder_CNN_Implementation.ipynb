{
 "cells": [
  {
   "cell_type": "code",
   "execution_count": 1,
   "metadata": {},
   "outputs": [
    {
     "output_type": "stream",
     "name": "stderr",
     "text": [
      "Using TensorFlow backend.\n"
     ]
    }
   ],
   "source": [
    "%matplotlib inline\n",
    "from tensorflow.keras import applications\n",
    "from tensorflow.keras.datasets import mnist\n",
    "import numpy as np\n",
    "import matplotlib.pyplot as plt\n",
    "from tensorflow.keras.models import Sequential\n",
    "from tensorflow.keras.layers import Dense, Dropout, Activation, Flatten\n",
    "from tensorflow.keras.layers import Convolution2D, MaxPooling2D\n",
    "from keras.utils import np_utils\n",
    "from imblearn.over_sampling import RandomOverSampler\n",
    "from sklearn.model_selection import train_test_split\n",
    "from tensorflow.keras import optimizers"
   ]
  },
  {
   "cell_type": "markdown",
   "metadata": {
    "collapsed": true
   },
   "source": [
    "# Initial Settings"
   ]
  },
  {
   "cell_type": "code",
   "execution_count": 2,
   "metadata": {},
   "outputs": [],
   "source": [
    "img_size = 100\n",
    "_lambda = 0.01"
   ]
  },
  {
   "cell_type": "markdown",
   "metadata": {},
   "source": [
    "# Load Data"
   ]
  },
  {
   "cell_type": "code",
   "execution_count": 3,
   "metadata": {},
   "outputs": [
    {
     "output_type": "stream",
     "name": "stdout",
     "text": [
      "(313, 100, 100, 3)\n(313,)\n"
     ]
    }
   ],
   "source": [
    "data = np.load('processed_val_images.npy')\n",
    "labels = np.load('processed_val_labels.npy')\n",
    "\n",
    "print(data.shape)\n",
    "print(labels.shape)"
   ]
  },
  {
   "cell_type": "markdown",
   "metadata": {},
   "source": [
    "# Train Test Split"
   ]
  },
  {
   "cell_type": "code",
   "execution_count": 4,
   "metadata": {},
   "outputs": [
    {
     "output_type": "stream",
     "name": "stdout",
     "text": [
      "Training matrix shape (250, 100, 100, 3)\nTesting matrix shape (63, 100, 100, 3)\nTraining label shape (250, 2)\nTesting label shape (63, 2)\n"
     ]
    }
   ],
   "source": [
    "X_train, X_test, y_train, y_test = train_test_split(data, labels, train_size = 0.8, random_state = 20)\n",
    "\n",
    "nb_classes = 2\n",
    "y_train = np.array(y_train)\n",
    "y_test = np.array(y_test)\n",
    "Y_train = np_utils.to_categorical(y_train, nb_classes)\n",
    "Y_test = np_utils.to_categorical(y_test, nb_classes)\n",
    "\n",
    "X_train = X_train.astype('float32')\n",
    "X_test = X_test.astype('float32')\n",
    "\n",
    "print(\"Training matrix shape\", X_train.shape)\n",
    "print(\"Testing matrix shape\", X_test.shape)\n",
    "\n",
    "print(\"Training label shape\", Y_train.shape)\n",
    "print(\"Testing label shape\", Y_test.shape)"
   ]
  },
  {
   "cell_type": "markdown",
   "metadata": {},
   "source": [
    "# Google's Inception V3"
   ]
  },
  {
   "cell_type": "code",
   "execution_count": 5,
   "metadata": {},
   "outputs": [],
   "source": [
    "# from keras.applications.inception_v3 import InceptionV3\n",
    "# from keras.applications.inception_v3 import preprocess_input\n",
    "# from keras.applications.inception_v3 import decode_predictions\n",
    "\n",
    "# model = InceptionV3(weights='imagenet', include_top=True)"
   ]
  },
  {
   "cell_type": "code",
   "execution_count": null,
   "metadata": {
    "scrolled": false
   },
   "outputs": [],
   "source": []
  },
  {
   "cell_type": "code",
   "execution_count": null,
   "metadata": {},
   "outputs": [],
   "source": []
  },
  {
   "cell_type": "markdown",
   "metadata": {},
   "source": [
    "# VGG16\n",
    "\n",
    "https://github.com/fchollet/deep-learning-models"
   ]
  },
  {
   "cell_type": "code",
   "execution_count": 6,
   "metadata": {},
   "outputs": [],
   "source": [
    "# model = applications.VGG16(weights = \"imagenet\", include_top=False, input_shape = (img_size, img_size, 3))"
   ]
  },
  {
   "cell_type": "code",
   "execution_count": 7,
   "metadata": {},
   "outputs": [],
   "source": [
    "# top_model = Sequential()\n",
    "# top_model.add(Flatten(input_shape=model.output_shape[1:]))\n",
    "# top_model.add(Dense(256, activation='relu'))\n",
    "# top_model.add(Dropout(0.5))\n",
    "# top_model.add(Dense(1, activation='sigmoid'))\n",
    "\n",
    "# # note that it is necessary to start with a fully-trained\n",
    "# # classifier, including the top classifier,\n",
    "# # in order to successfully do fine-tuning\n",
    "# top_model.load_weights(top_model_weights_path)\n",
    "\n",
    "# # add the model on top of the convolutional base\n",
    "# model.add(top_model)\n",
    "\n",
    "# for layer in model.layers[:25]:\n",
    "#     layer.trainable = False\n",
    "\n",
    "# # compile the model with a SGD/momentum optimizer\n",
    "# # and a very slow learning rate.\n",
    "# model.compile(loss='binary_crossentropy',\n",
    "#               optimizer=optimizers.SGD(lr=1e-4, momentum=0.9),\n",
    "#               metrics=['accuracy'])"
   ]
  },
  {
   "cell_type": "code",
   "execution_count": null,
   "metadata": {},
   "outputs": [],
   "source": []
  },
  {
   "cell_type": "code",
   "execution_count": null,
   "metadata": {},
   "outputs": [],
   "source": []
  },
  {
   "cell_type": "markdown",
   "metadata": {},
   "source": [
    "# VGG 14"
   ]
  },
  {
   "cell_type": "code",
   "execution_count": 8,
   "metadata": {},
   "outputs": [],
   "source": [
    "# model = applications.VGG14(weights = \"imagenet\", include_top=False, input_shape = (img_size, img_size, 3))"
   ]
  },
  {
   "cell_type": "code",
   "execution_count": null,
   "metadata": {},
   "outputs": [],
   "source": []
  },
  {
   "cell_type": "code",
   "execution_count": 9,
   "metadata": {},
   "outputs": [
    {
     "output_type": "error",
     "ename": "NameError",
     "evalue": "name 'mode' is not defined",
     "traceback": [
      "\u001b[1;31m---------------------------------------------------------------------------\u001b[0m",
      "\u001b[1;31mNameError\u001b[0m                                 Traceback (most recent call last)",
      "\u001b[1;32m<ipython-input-9-58ca96c58091>\u001b[0m in \u001b[0;36m<module>\u001b[1;34m\u001b[0m\n\u001b[1;32m----> 1\u001b[1;33m \u001b[0mmode\u001b[0m\u001b[1;33m\u001b[0m\u001b[1;33m\u001b[0m\u001b[0m\n\u001b[0m",
      "\u001b[1;31mNameError\u001b[0m: name 'mode' is not defined"
     ]
    }
   ],
   "source": [
    "# mode"
   ]
  },
  {
   "cell_type": "markdown",
   "metadata": {},
   "source": [
    "# VGG-19"
   ]
  },
  {
   "cell_type": "code",
   "execution_count": 5,
   "metadata": {},
   "outputs": [],
   "source": [
    "model = applications.VGG19(weights = \"imagenet\", include_top=False, input_shape = (img_size, img_size, 3))"
   ]
  },
  {
   "cell_type": "code",
   "execution_count": 7,
   "metadata": {
    "scrolled": true
   },
   "outputs": [
    {
     "output_type": "stream",
     "name": "stdout",
     "text": [
      "Model: \"vgg19\"\n_________________________________________________________________\nLayer (type)                 Output Shape              Param #   \n=================================================================\ninput_1 (InputLayer)         [(None, 100, 100, 3)]     0         \n_________________________________________________________________\nblock1_conv1 (Conv2D)        (None, 100, 100, 64)      1792      \n_________________________________________________________________\nblock1_conv2 (Conv2D)        (None, 100, 100, 64)      36928     \n_________________________________________________________________\nblock1_pool (MaxPooling2D)   (None, 50, 50, 64)        0         \n_________________________________________________________________\nblock2_conv1 (Conv2D)        (None, 50, 50, 128)       73856     \n_________________________________________________________________\nblock2_conv2 (Conv2D)        (None, 50, 50, 128)       147584    \n_________________________________________________________________\nblock2_pool (MaxPooling2D)   (None, 25, 25, 128)       0         \n_________________________________________________________________\nblock3_conv1 (Conv2D)        (None, 25, 25, 256)       295168    \n_________________________________________________________________\nblock3_conv2 (Conv2D)        (None, 25, 25, 256)       590080    \n_________________________________________________________________\nblock3_conv3 (Conv2D)        (None, 25, 25, 256)       590080    \n_________________________________________________________________\nblock3_conv4 (Conv2D)        (None, 25, 25, 256)       590080    \n_________________________________________________________________\nblock3_pool (MaxPooling2D)   (None, 12, 12, 256)       0         \n_________________________________________________________________\nblock4_conv1 (Conv2D)        (None, 12, 12, 512)       1180160   \n_________________________________________________________________\nblock4_conv2 (Conv2D)        (None, 12, 12, 512)       2359808   \n_________________________________________________________________\nblock4_conv3 (Conv2D)        (None, 12, 12, 512)       2359808   \n_________________________________________________________________\nblock4_conv4 (Conv2D)        (None, 12, 12, 512)       2359808   \n_________________________________________________________________\nblock4_pool (MaxPooling2D)   (None, 6, 6, 512)         0         \n_________________________________________________________________\nblock5_conv1 (Conv2D)        (None, 6, 6, 512)         2359808   \n_________________________________________________________________\nblock5_conv2 (Conv2D)        (None, 6, 6, 512)         2359808   \n_________________________________________________________________\nblock5_conv3 (Conv2D)        (None, 6, 6, 512)         2359808   \n_________________________________________________________________\nblock5_conv4 (Conv2D)        (None, 6, 6, 512)         2359808   \n_________________________________________________________________\nblock5_pool (MaxPooling2D)   (None, 3, 3, 512)         0         \n=================================================================\nTotal params: 20,024,384\nTrainable params: 20,024,384\nNon-trainable params: 0\n_________________________________________________________________\n"
     ]
    }
   ],
   "source": [
    "model.summary()"
   ]
  },
  {
   "cell_type": "code",
   "execution_count": null,
   "metadata": {},
   "outputs": [],
   "source": [
    "## Make last two layers trainable\n"
   ]
  },
  {
   "cell_type": "markdown",
   "metadata": {},
   "source": [
    "# Create FC Layer"
   ]
  },
  {
   "cell_type": "code",
   "execution_count": 8,
   "metadata": {},
   "outputs": [],
   "source": [
    "top_model = Sequential()\n",
    "\n",
    "top_model.add(Flatten(input_shape=model.output_shape[1:]))\n",
    "top_model.add(Dense(128, activation='relu'))\n",
    "top_model.add(Dropout(0.5))\n",
    "top_model.add(Dense(2, activation='softmax'))\n",
    "\n",
    "# top_model.load_weights(\"first_try.h5\")"
   ]
  },
  {
   "cell_type": "code",
   "execution_count": 9,
   "metadata": {},
   "outputs": [],
   "source": [
    "new_model = Sequential() #new model\n",
    "for layer in model.layers: \n",
    "    new_model.add(layer)\n",
    "    \n",
    "new_model.add(top_model) # now this works"
   ]
  },
  {
   "cell_type": "code",
   "execution_count": 10,
   "metadata": {},
   "outputs": [],
   "source": [
    "for layer in model.layers[:21]:\n",
    "    layer.trainable = False"
   ]
  },
  {
   "cell_type": "code",
   "execution_count": 11,
   "metadata": {},
   "outputs": [],
   "source": [
    "adam = optimizers.SGD(lr=1e-4, decay=1e-6, momentum=0.9, nesterov=True)\n",
    "new_model.compile(loss='categorical_crossentropy',\n",
    "              optimizer= adam,\n",
    "              metrics=['accuracy'])"
   ]
  },
  {
   "cell_type": "code",
   "execution_count": 13,
   "metadata": {
    "scrolled": false
   },
   "outputs": [
    {
     "output_type": "stream",
     "name": "stdout",
     "text": [
      "Epoch 1/10\n",
      "4/4 - 1s - loss: 0.6492 - accuracy: 0.6440\n",
      "Epoch 2/10\n",
      "4/4 - 0s - loss: 0.5787 - accuracy: 0.7160\n",
      "Epoch 3/10\n",
      "4/4 - 0s - loss: 0.5331 - accuracy: 0.7680\n",
      "Epoch 4/10\n",
      "4/4 - 0s - loss: 0.5657 - accuracy: 0.7800\n",
      "Epoch 5/10\n",
      "4/4 - 0s - loss: 0.5289 - accuracy: 0.8200\n",
      "Epoch 6/10\n",
      "4/4 - 0s - loss: 0.5551 - accuracy: 0.8040\n",
      "Epoch 7/10\n",
      "4/4 - 0s - loss: 0.5047 - accuracy: 0.7920\n",
      "Epoch 8/10\n",
      "4/4 - 0s - loss: 0.5014 - accuracy: 0.8080\n",
      "Epoch 9/10\n",
      "4/4 - 0s - loss: 0.4964 - accuracy: 0.8080\n",
      "Epoch 10/10\n",
      "4/4 - 0s - loss: 0.5361 - accuracy: 0.7960\n"
     ]
    }
   ],
   "source": [
    "new_model.fit(X_train, Y_train, \n",
    "          batch_size=64, epochs=10, verbose=2 )\n",
    "\n",
    "new_model.save('model_V4.h5')"
   ]
  },
  {
   "cell_type": "code",
   "execution_count": 14,
   "metadata": {},
   "outputs": [
    {
     "output_type": "stream",
     "name": "stdout",
     "text": [
      "Loss: 0.4570825397968292\nAccuracy: 0.8253968358039856\n"
     ]
    }
   ],
   "source": [
    "score = new_model.evaluate(X_test, Y_test, verbose=0)\n",
    "print(\"Loss: \" + str(score[0]))\n",
    "print(\"Accuracy: \" + str(score[1]))\n",
    "new_model.save('model_V4.h5')"
   ]
  },
  {
   "cell_type": "code",
   "execution_count": 15,
   "metadata": {},
   "outputs": [
    {
     "output_type": "stream",
     "name": "stdout",
     "text": [
      "Saved model to disk\n"
     ]
    }
   ],
   "source": [
    "from keras.models import model_from_json\n",
    "model_json = new_model.to_json()\n",
    "with open(\"newmodel.json\",\"w\") as json_file:\n",
    "    json_file.write(model_json)\n",
    "model.save_weights(\"newmodel.h5\")\n",
    "print(\"Saved model to disk\")"
   ]
  },
  {
   "cell_type": "markdown",
   "metadata": {},
   "source": [
    "# Defining the Model"
   ]
  },
  {
   "cell_type": "code",
   "execution_count": 17,
   "metadata": {},
   "outputs": [
    {
     "output_type": "stream",
     "name": "stdout",
     "text": [
      "Epoch 1/10\n",
      "4/4 - 0s - loss: 0.5834 - accuracy: 0.7400\n",
      "Epoch 2/10\n",
      "4/4 - 0s - loss: 0.5773 - accuracy: 0.7880\n",
      "Epoch 3/10\n",
      "4/4 - 0s - loss: 0.5538 - accuracy: 0.7880\n",
      "Epoch 4/10\n",
      "4/4 - 0s - loss: 0.5220 - accuracy: 0.8080\n",
      "Epoch 5/10\n",
      "4/4 - 0s - loss: 0.5124 - accuracy: 0.8080\n",
      "Epoch 6/10\n",
      "4/4 - 0s - loss: 0.5190 - accuracy: 0.8160\n",
      "Epoch 7/10\n",
      "4/4 - 0s - loss: 0.4865 - accuracy: 0.8120\n",
      "Epoch 8/10\n",
      "4/4 - 0s - loss: 0.5026 - accuracy: 0.8160\n",
      "Epoch 9/10\n",
      "4/4 - 0s - loss: 0.4960 - accuracy: 0.8200\n",
      "Epoch 10/10\n",
      "4/4 - 0s - loss: 0.4892 - accuracy: 0.8120\n"
     ]
    },
    {
     "output_type": "execute_result",
     "data": {
      "text/plain": [
       "<tensorflow.python.keras.callbacks.History at 0x2ad1ae16ee0>"
      ]
     },
     "metadata": {},
     "execution_count": 17
    }
   ],
   "source": [
    "model = Sequential()\n",
    "# model.add(Convolution2D(32, 3, 3, activation='relu', input_shape=(img_size, img_size, 3)))\n",
    "# model.add(MaxPooling2D(pool_size=(2,2)))\n",
    "# model.add(Dropout(0.25))\n",
    "\n",
    "# model.add(Convolution2D(32, 3, 3, activation='relu', input_shape=(img_size, img_size, 3)))\n",
    "# model.add(MaxPooling2D(pool_size=(2,2)))\n",
    "# model.add(Dropout(0.25))\n",
    "\n",
    "# model.add(Convolution2D(32, 3, 3, activation='relu', input_shape=(img_size, img_size, 3)))\n",
    "# model.add(MaxPooling2D(pool_size=(2,2)))\n",
    "# model.add(Dropout(0.25))\n",
    "\n",
    "model.add(Flatten(input_shape=(img_size, img_size, 3)))\n",
    "model.add(Dense(128, activation='relu'))\n",
    "model.add(Dropout(0.5))\n",
    "model.add(Dense(2, activation='softmax'))\n",
    "\n",
    "adam = optimizers.SGD(lr=1e-4, decay=1e-6, momentum=0.9, nesterov=True)\n",
    "model.compile(loss='categorical_crossentropy',\n",
    "              optimizer= adam,\n",
    "              metrics=['accuracy'])\n",
    "\n",
    "\n",
    "model.fit(X_train, Y_train, \n",
    "          batch_size=64, epochs=10, verbose=2)"
   ]
  },
  {
   "cell_type": "code",
   "execution_count": 18,
   "metadata": {},
   "outputs": [
    {
     "output_type": "stream",
     "name": "stdout",
     "text": [
      "Loss: 0.4693923592567444\nAccuracy: 0.8253968358039856\n"
     ]
    }
   ],
   "source": [
    "score = model.evaluate(X_test, Y_test, verbose=0)\n",
    "print(\"Loss: \" + str(score[0]))\n",
    "print(\"Accuracy: \" + str(score[1]))"
   ]
  },
  {
   "cell_type": "markdown",
   "metadata": {},
   "source": [
    "# 3-Layer Convolution Model"
   ]
  },
  {
   "cell_type": "code",
   "execution_count": 21,
   "metadata": {},
   "outputs": [
    {
     "output_type": "stream",
     "name": "stdout",
     "text": [
      "Epoch 1/10\n",
      "4/4 - 0s - loss: 0.6907 - accuracy: 0.5240\n",
      "Epoch 2/10\n",
      "4/4 - 0s - loss: 0.6999 - accuracy: 0.4840\n",
      "Epoch 3/10\n",
      "4/4 - 0s - loss: 0.6858 - accuracy: 0.5800\n",
      "Epoch 4/10\n",
      "4/4 - 0s - loss: 0.6819 - accuracy: 0.5520\n",
      "Epoch 5/10\n",
      "4/4 - 0s - loss: 0.6749 - accuracy: 0.5960\n",
      "Epoch 6/10\n",
      "4/4 - 0s - loss: 0.6710 - accuracy: 0.6440\n",
      "Epoch 7/10\n",
      "4/4 - 0s - loss: 0.6632 - accuracy: 0.6920\n",
      "Epoch 8/10\n",
      "4/4 - 0s - loss: 0.6574 - accuracy: 0.7040\n",
      "Epoch 9/10\n",
      "4/4 - 0s - loss: 0.6562 - accuracy: 0.7120\n",
      "Epoch 10/10\n",
      "4/4 - 0s - loss: 0.6427 - accuracy: 0.7600\n"
     ]
    },
    {
     "output_type": "execute_result",
     "data": {
      "text/plain": [
       "<tensorflow.python.keras.callbacks.History at 0x2ad1b6b2940>"
      ]
     },
     "metadata": {},
     "execution_count": 21
    }
   ],
   "source": [
    "model = Sequential()\n",
    "model.add(Convolution2D(32, 3, 3, activation='relu', input_shape=(img_size, img_size, 3)))\n",
    "model.add(MaxPooling2D(pool_size=(2,2)))\n",
    "\n",
    "model.add(Convolution2D(32, 3, 3, activation='relu'))\n",
    "model.add(MaxPooling2D(pool_size=(2,2)))\n",
    "\n",
    "model.add(Convolution2D(64, 3, 3, activation='relu'))\n",
    "model.add(MaxPooling2D(pool_size=(2,2)))\n",
    "          \n",
    "model.add(Flatten())\n",
    "model.add(Dense(128, activation='relu'))\n",
    "model.add(Dropout(0.5))\n",
    "model.add(Dense(2, activation='softmax'))\n",
    "\n",
    "adam = optimizers.SGD(lr=1e-4, decay=1e-6, momentum=0.9, nesterov=True)\n",
    "model.compile(loss='categorical_crossentropy',\n",
    "              optimizer= adam,\n",
    "              metrics=['accuracy'])\n",
    "\n",
    "\n",
    "model.fit(X_train, Y_train, \n",
    "          batch_size=64, epochs=10, verbose=2)"
   ]
  },
  {
   "cell_type": "code",
   "execution_count": 22,
   "metadata": {
    "scrolled": false
   },
   "outputs": [
    {
     "output_type": "stream",
     "name": "stdout",
     "text": [
      "WARNING:tensorflow:From <ipython-input-22-a27b6df8f641>:1: Sequential.predict_proba (from tensorflow.python.keras.engine.sequential) is deprecated and will be removed after 2021-01-01.\n",
      "Instructions for updating:\n",
      "Please use `model.predict()` instead.\n",
      "2/2 [==============================] - 0s 7ms/step\n"
     ]
    },
    {
     "output_type": "execute_result",
     "data": {
      "text/plain": [
       "array([[0.54903734, 0.45096266],\n",
       "       [0.5403585 , 0.45964152],\n",
       "       [0.5621946 , 0.43780535],\n",
       "       [0.5594473 , 0.44055268],\n",
       "       [0.5359233 , 0.46407667],\n",
       "       [0.5552391 , 0.4447609 ],\n",
       "       [0.54377705, 0.45622292],\n",
       "       [0.5434544 , 0.4565456 ],\n",
       "       [0.5357815 , 0.46421853],\n",
       "       [0.5317472 , 0.46825275],\n",
       "       [0.5437384 , 0.45626158],\n",
       "       [0.53418106, 0.46581897],\n",
       "       [0.55072314, 0.44927692],\n",
       "       [0.54427475, 0.45572525],\n",
       "       [0.5325518 , 0.46744823],\n",
       "       [0.5573463 , 0.44265375],\n",
       "       [0.5499232 , 0.45007682],\n",
       "       [0.5526536 , 0.4473464 ],\n",
       "       [0.55507123, 0.44492882],\n",
       "       [0.550805  , 0.449195  ],\n",
       "       [0.5507215 , 0.4492785 ],\n",
       "       [0.54372233, 0.45627764],\n",
       "       [0.5311088 , 0.4688912 ],\n",
       "       [0.53596723, 0.46403277],\n",
       "       [0.56718373, 0.43281624],\n",
       "       [0.52855504, 0.47144493],\n",
       "       [0.5504382 , 0.44956174],\n",
       "       [0.5452001 , 0.45479986],\n",
       "       [0.53936124, 0.46063876],\n",
       "       [0.5553281 , 0.4446719 ],\n",
       "       [0.5375128 , 0.4624872 ],\n",
       "       [0.56014746, 0.4398526 ],\n",
       "       [0.5226702 , 0.47732982],\n",
       "       [0.5499743 , 0.45002568],\n",
       "       [0.54391783, 0.45608217],\n",
       "       [0.5564584 , 0.4435416 ],\n",
       "       [0.5560884 , 0.44391164],\n",
       "       [0.54411775, 0.45588225],\n",
       "       [0.54691744, 0.45308256],\n",
       "       [0.5331525 , 0.46684748],\n",
       "       [0.5408091 , 0.45919093],\n",
       "       [0.521137  , 0.47886303],\n",
       "       [0.5220945 , 0.4779055 ],\n",
       "       [0.5436361 , 0.4563639 ],\n",
       "       [0.5409032 , 0.45909685],\n",
       "       [0.5184836 , 0.4815164 ],\n",
       "       [0.5354281 , 0.46457192],\n",
       "       [0.5488895 , 0.4511105 ],\n",
       "       [0.5445018 , 0.45549822],\n",
       "       [0.51921844, 0.4807816 ],\n",
       "       [0.51475257, 0.48524743],\n",
       "       [0.5449206 , 0.45507938],\n",
       "       [0.52441823, 0.47558174],\n",
       "       [0.5347998 , 0.46520016],\n",
       "       [0.5482984 , 0.45170164],\n",
       "       [0.5309307 , 0.46906936],\n",
       "       [0.54389703, 0.456103  ],\n",
       "       [0.5510659 , 0.44893408],\n",
       "       [0.53908724, 0.46091273],\n",
       "       [0.5411419 , 0.4588581 ],\n",
       "       [0.52061576, 0.4793842 ],\n",
       "       [0.5451173 , 0.45488268],\n",
       "       [0.5515396 , 0.4484604 ]], dtype=float32)"
      ]
     },
     "metadata": {},
     "execution_count": 22
    }
   ],
   "source": [
    "model.predict_proba(X_test, verbose=1)"
   ]
  },
  {
   "cell_type": "code",
   "execution_count": 23,
   "metadata": {},
   "outputs": [
    {
     "output_type": "stream",
     "name": "stdout",
     "text": [
      "Loss: 0.6415705680847168\nAccuracy: 0.8253968358039856\n"
     ]
    }
   ],
   "source": [
    "score = model.evaluate(X_test, Y_test, verbose=0)\n",
    "print(\"Loss: \" + str(score[0]))\n",
    "print(\"Accuracy: \" + str(score[1]))"
   ]
  },
  {
   "cell_type": "code",
   "execution_count": 24,
   "metadata": {},
   "outputs": [
    {
     "output_type": "stream",
     "name": "stdout",
     "text": [
      "Num GPUs Available:  1\n"
     ]
    }
   ],
   "source": [
    "import tensorflow as tf\n",
    "print(\"Num GPUs Available: \", len(tf.config.experimental.list_physical_devices('GPU')))\n"
   ]
  },
  {
   "cell_type": "code",
   "execution_count": null,
   "metadata": {},
   "outputs": [],
   "source": []
  }
 ],
 "metadata": {
  "kernelspec": {
   "name": "Python 3.8.6 64-bit",
   "display_name": "Python 3.8.6 64-bit",
   "metadata": {
    "interpreter": {
     "hash": "8e1c58d05a48357378c863cd8fb53581338459000ad64a1ec4f1a1f63822db81"
    }
   }
  },
  "language_info": {
   "codemirror_mode": {
    "name": "ipython",
    "version": 2
   },
   "file_extension": ".py",
   "mimetype": "text/x-python",
   "name": "python",
   "nbconvert_exporter": "python",
   "pygments_lexer": "ipython2",
   "version": "3.8.6-final"
  }
 },
 "nbformat": 4,
 "nbformat_minor": 2
}